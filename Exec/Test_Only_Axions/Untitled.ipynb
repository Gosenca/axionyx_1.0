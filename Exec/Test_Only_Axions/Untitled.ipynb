{
 "cells": [
  {
   "cell_type": "code",
   "execution_count": 8,
   "metadata": {},
   "outputs": [
    {
     "name": "stdout",
     "output_type": "stream",
     "text": [
      "1.3151863206839023\n",
      "sum over c:  0.9999999999999998\n",
      "sum over d:  1.0\n"
     ]
    }
   ],
   "source": [
    "w1 = -1.17767998417887\n",
    "w2 = 0.235573213359359\n",
    "w3 = 0.784513610477560\n",
    "w0= 1. - 2.*(w1+w2+w3) \n",
    "print(w0)\n",
    "\n",
    "print(\"sum over c: \", w3 +w2+w3 + w1+w2 + w0+w1)\n",
    "print(\"sum over d: \", 2*w3 + 2*w2 +2*w1 +w0 )"
   ]
  },
  {
   "cell_type": "code",
   "execution_count": null,
   "metadata": {},
   "outputs": [],
   "source": []
  }
 ],
 "metadata": {
  "kernelspec": {
   "display_name": "Python 3",
   "language": "python",
   "name": "python3"
  },
  "language_info": {
   "codemirror_mode": {
    "name": "ipython",
    "version": 3
   },
   "file_extension": ".py",
   "mimetype": "text/x-python",
   "name": "python",
   "nbconvert_exporter": "python",
   "pygments_lexer": "ipython3",
   "version": "3.7.1"
  }
 },
 "nbformat": 4,
 "nbformat_minor": 2
}
